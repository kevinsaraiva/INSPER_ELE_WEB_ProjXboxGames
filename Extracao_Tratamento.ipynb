{
 "cells": [
  {
   "cell_type": "markdown",
   "metadata": {},
   "source": [
    "# **Avaliação dos jogos no Xbox Game Pass**"
   ]
  },
  {
   "cell_type": "markdown",
   "metadata": {},
   "source": [
    "**Nome:** Kevin Santos Saraiva\n",
    "\n",
    "**Disciplina:** ANÁLISE DE TEXTO DE FONTES DESESTRUTURADAS E WEB - ELET_A 2022/1\n",
    "\n",
    "**Entrega:** Etapa 1 -  Extração e limpeza dos dados"
   ]
  },
  {
   "cell_type": "markdown",
   "metadata": {},
   "source": [
    "#### **Objetivos do Projeto**\n",
    "Avaliar o catálogo de produtos disponíveis no serviço por assinatura de jogos da Microsoft: **Xbox Game Pass**\n",
    "\n",
    "**Como funciona o XGP?** Até o momento (maio/22), usuário paga R$44,99 por mês a troco do serviço chamado Xbox Game Pass Ultimate. Com esse serviço, o usuário pode acessar jogos em seus consoles (Xbox One ou Xbox Series X|S), PC e dispositivos móveis (por meio da feature de execução em nuvem - XCloud)\n",
    "\n",
    "**Como avaliar o XGP?** A ideia do projeto é explorar o catálogo. Nele encontraremos diversos jogos com faixas de preços, avaliações de usuários, genêros distintos. Com isso é possível avaliar se para um determinado usuário esse projeto é relevante ou não."
   ]
  },
  {
   "cell_type": "markdown",
   "metadata": {},
   "source": [
    "# ------------------ *inicio do codigo* ------------------"
   ]
  },
  {
   "cell_type": "markdown",
   "metadata": {},
   "source": [
    "# Bibliotecas"
   ]
  },
  {
   "cell_type": "markdown",
   "metadata": {},
   "source": [
    "### 1. Install - se necessario"
   ]
  },
  {
   "cell_type": "code",
   "execution_count": 1,
   "metadata": {},
   "outputs": [
    {
     "name": "stdout",
     "output_type": "stream",
     "text": [
      "Requirement already satisfied: BeautifulSoup4 in c:\\users\\kevinss\\anaconda3\\lib\\site-packages (4.9.1)\n",
      "Requirement already satisfied: soupsieve>1.2 in c:\\users\\kevinss\\anaconda3\\lib\\site-packages (from BeautifulSoup4) (2.0.1)\n"
     ]
    }
   ],
   "source": [
    "!pip install BeautifulSoup4"
   ]
  },
  {
   "cell_type": "markdown",
   "metadata": {},
   "source": [
    "### 2. Bibliotecas"
   ]
  },
  {
   "cell_type": "code",
   "execution_count": 2,
   "metadata": {},
   "outputs": [],
   "source": [
    "import pandas as pd                             # pandas padrao\n",
    "\n",
    "import os                                       # para trabalhar com diretórios / sistema operacional\n",
    "import requests                                 # para nos comunicarmos com a Web\n",
    "import bs4                                      # para extrair informações de páginas HTML\n",
    "from bs4 import BeautifulSoup               \n",
    "import sys                                      # utilizada para nos indicar o caminho do executável do Python\n",
    "import time                                     # Controlar espera entre requisições\n",
    "import random                                   # Gerar valores aleatórios\n",
    "from sklearn.utils.extmath import cartesian     # Produto cartesiano"
   ]
  },
  {
   "cell_type": "markdown",
   "metadata": {},
   "source": [
    "# Etapa 1: Coleta de Dados"
   ]
  },
  {
   "cell_type": "markdown",
   "metadata": {},
   "source": [
    "## **Site 1: Catálogo de Jogos Xbox Game Pass**"
   ]
  },
  {
   "cell_type": "code",
   "execution_count": 1,
   "metadata": {},
   "outputs": [
    {
     "name": "stdout",
     "output_type": "stream",
     "text": [
      "1\n"
     ]
    }
   ],
   "source": [
    "print(1)"
   ]
  },
  {
   "cell_type": "markdown",
   "metadata": {},
   "source": [
    "## **Site 2: Avaliação dos usuários (Metacritic)**"
   ]
  },
  {
   "cell_type": "code",
   "execution_count": null,
   "metadata": {},
   "outputs": [],
   "source": []
  }
 ],
 "metadata": {
  "interpreter": {
   "hash": "e017536e03cffce1c979eff2121cedf0803f0992d307d9317e15bc4f00c95324"
  },
  "kernelspec": {
   "display_name": "Python 3.8.3 ('base')",
   "language": "python",
   "name": "python3"
  },
  "language_info": {
   "codemirror_mode": {
    "name": "ipython",
    "version": 3
   },
   "file_extension": ".py",
   "mimetype": "text/x-python",
   "name": "python",
   "nbconvert_exporter": "python",
   "pygments_lexer": "ipython3",
   "version": "3.8.3"
  },
  "orig_nbformat": 4
 },
 "nbformat": 4,
 "nbformat_minor": 2
}
